{
 "cells": [
  {
   "cell_type": "code",
   "execution_count": 11,
   "id": "43bb585a-659d-4735-9896-1d390a246fe8",
   "metadata": {},
   "outputs": [
    {
     "name": "stdout",
     "output_type": "stream",
     "text": [
      "['날짜', '지점', '평균기온(℃)', '최저기온(℃)', '최고기온(℃)']\n",
      "['2018-08-01', '108', '33.6', '27.8', '39.6']\n",
      "기상 관측 이래 서울의 최고 기온이 가장 높았던 날은 2018-08-01로, 39.6도 였습니다.\n"
     ]
    }
   ],
   "source": [
    "import csv\n",
    "\n",
    "f = open('seoul.csv', 'r', encoding='utf-8')\n",
    "data = csv.reader(f)\n",
    "\n",
    "header = next(data)\n",
    "\n",
    "highest_temp = -999\n",
    "highest_date = ''\n",
    "highest_row = ''\n",
    "\n",
    "for row in data:\n",
    "    if '' in row:\n",
    "        continue\n",
    "    \n",
    "    temp = float(row[4])\n",
    "    if temp > highest_temp:\n",
    "        highest_row = row\n",
    "        highest_temp = temp\n",
    "        highest_date = row[0]\n",
    "\n",
    "f.close()\n",
    "\n",
    "print(header)\n",
    "print(highest_row)\n",
    "\n",
    "print(f'기상 관측 이래 서울의 최고 기온이 가장 높았던 날은 {highest_date}로, {highest_temp}도 였습니다.')"
   ]
  },
  {
   "cell_type": "code",
   "execution_count": 12,
   "id": "64326545-994a-4a4a-9094-101d3803bb0c",
   "metadata": {},
   "outputs": [
    {
     "name": "stdout",
     "output_type": "stream",
     "text": [
      "['날짜', '지점', '평균기온(℃)', '최저기온(℃)', '최고기온(℃)']\n",
      "['2018-08-01', '108', '33.6', '27.8', '39.6']\n",
      "기상 관측 이래 서울의 최저 기온이 가장 낮았던 날은 1927-12-31로, -23.1도 였습니다.\n"
     ]
    }
   ],
   "source": [
    "import csv\n",
    "\n",
    "f = open('seoul.csv', 'r', encoding='utf-8')\n",
    "data = csv.reader(f)\n",
    "\n",
    "header = next(data)\n",
    "\n",
    "lowest_temp = 999\n",
    "lowest_date = ''\n",
    "lowest_row = ''\n",
    "\n",
    "for row in data:\n",
    "    if '' in row:\n",
    "        continue\n",
    "    \n",
    "    temp = float(row[3])\n",
    "    if temp < lowest_temp:\n",
    "        lowest_row = row\n",
    "        lowest_temp = temp\n",
    "        lowest_date = row[0]\n",
    "\n",
    "f.close()\n",
    "\n",
    "print(header)\n",
    "print(highest_row)\n",
    "\n",
    "print(f'기상 관측 이래 서울의 최저 기온이 가장 낮았던 날은 {lowest_date}로, {lowest_temp}도 였습니다.')"
   ]
  },
  {
   "cell_type": "code",
   "execution_count": 16,
   "id": "7d7b84ce-d261-4f58-845a-2a24dd5c1b63",
   "metadata": {},
   "outputs": [
    {
     "name": "stdout",
     "output_type": "stream",
     "text": [
      "서울 최고 기온 10개\n",
      "[39.6, 38.4, 38.3, 38.2, 38.2, 38.2, 38.0, 38.0, 38.0, 37.9]\n",
      "서울 최저 기온 10개\n",
      "[-23.1, -22.5, -22.3, -22.2, -21.9, -21.8, -21.7, -21.5, -21.3, -21.3]\n"
     ]
    }
   ],
   "source": [
    "import csv\n",
    "\n",
    "min_temp = []\n",
    "max_temp = []\n",
    "\n",
    "with open('seoul.csv', 'r', encoding='utf-8') as f:\n",
    "    data = csv.reader(f)\n",
    "    header = next(data)\n",
    "\n",
    "    for row in data:\n",
    "        if row[3] == '':\n",
    "            row[3] = 999\n",
    "        if row[4] == '':\n",
    "            row[4] = -999\n",
    "\n",
    "        row[3] = float(row[3])\n",
    "        row[4] = float(row[4])\n",
    "\n",
    "        min_temp.append(row[3])\n",
    "        max_temp.append(row[4])\n",
    "\n",
    "print('서울 최고 기온 10개')\n",
    "max_temp.sort(reverse=True)\n",
    "print(max_temp[:10])\n",
    "\n",
    "print('서울 최저 기온 10개')\n",
    "min_temp.sort()\n",
    "print(min_temp[:10])"
   ]
  },
  {
   "cell_type": "code",
   "execution_count": null,
   "id": "5e49d785-4536-4653-9fa2-55eea7fe76fe",
   "metadata": {},
   "outputs": [],
   "source": []
  }
 ],
 "metadata": {
  "kernelspec": {
   "display_name": "Python [conda env:base] *",
   "language": "python",
   "name": "conda-base-py"
  },
  "language_info": {
   "codemirror_mode": {
    "name": "ipython",
    "version": 3
   },
   "file_extension": ".py",
   "mimetype": "text/x-python",
   "name": "python",
   "nbconvert_exporter": "python",
   "pygments_lexer": "ipython3",
   "version": "3.13.5"
  }
 },
 "nbformat": 4,
 "nbformat_minor": 5
}
